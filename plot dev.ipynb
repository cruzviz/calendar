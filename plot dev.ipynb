{
 "cells": [
  {
   "cell_type": "code",
   "execution_count": 65,
   "metadata": {
    "collapsed": true
   },
   "outputs": [],
   "source": [
    "from astro import Astro\n",
    "from tides import Tides\n",
    "\n",
    "tides = Tides('example_noaa_file.TXT')\n",
    "sun = Astro(str(tides.latitude), str(tides.longitude), tides.timezone, tides.year, 'Sun')\n",
    "moon = Astro(str(tides.latitude), str(tides.longitude), tides.timezone, tides.year, 'Moon')"
   ]
  },
  {
   "cell_type": "code",
   "execution_count": 66,
   "metadata": {
    "collapsed": false
   },
   "outputs": [
    {
     "name": "stdout",
     "output_type": "stream",
     "text": [
      "Populating the interactive namespace from numpy and matplotlib\n"
     ]
    },
    {
     "name": "stderr",
     "output_type": "stream",
     "text": [
      "WARNING: pylab import has clobbered these variables: ['datetime']\n",
      "`%matplotlib` prevents importing * from pylab and numpy\n"
     ]
    }
   ],
   "source": [
    "import matplotlib.pyplot as plt\n",
    "import matplotlib.gridspec as gridspec\n",
    "import numpy as np\n",
    "%pylab inline\n",
    "\n",
    "import calendar\n",
    "import pandas as pd\n",
    "\n",
    "def days_in_month(year_month_string):\n",
    "    '''Generator that takes year_month_string (i.e. '2015-07') and yields\n",
    "    all the days of the month in order, also as strings (i.e. '2015-07-18').\n",
    "    '''\n",
    "    start_date = pd.to_datetime(year_month_string)\n",
    "    _, days_in_month = calendar.monthrange(start_date.year, start_date.month)\n",
    "    end_date = start_date + pd.DateOffset(days_in_month)\n",
    "    current_date = start_date\n",
    "    while current_date < end_date:\n",
    "        yield current_date.to_pydatetime().strftime('%Y-%m-%d')\n",
    "        current_date = current_date + pd.DateOffset()\n"
   ]
  },
  {
   "cell_type": "code",
   "execution_count": 90,
   "metadata": {
    "collapsed": true
   },
   "outputs": [],
   "source": [
    "monthnum = '03'  # @@@ change this to test other months\n",
    "\n",
    "month_of_tide = tides.all_tides[tides.year + '-' + monthnum]\n",
    "month_of_sun = sun.heights[tides.year + '-' + monthnum]\n",
    "month_of_moon = moon.heights[tides.year + '-' + monthnum]\n",
    "\n",
    "tide_min = tides.annual_min\n",
    "tide_max = tides.annual_max\n",
    "place_name = tides.station_name + ', ' + tides.state\n",
    "time_zone = tides.timezone\n",
    "\n",
    "year_month = month_of_tide.index[0].to_pydatetime().strftime('%Y-%m')\n",
    "month_title = month_of_tide.index[0].to_pydatetime().strftime('%B')\n",
    "year_title = month_of_tide.index[0].to_pydatetime().strftime('%Y')"
   ]
  },
  {
   "cell_type": "code",
   "execution_count": 125,
   "metadata": {
    "collapsed": false
   },
   "outputs": [],
   "source": [
    "def _plot_a_date(grid_index, date):\n",
    "    '''Internal function. Works on pre-defined gridspec gs and assumes\n",
    "    variables like tide_min, tide_max, month_of_tide/moon/sun already\n",
    "    defined in outer scope.\n",
    "    Plots the two daily subplots for `date` in gridspec coordinates\n",
    "    gs[gridx, gridy] for the sun/moon and gs[gridx, gridy + 1] for tide.\n",
    "    `date` must be in a form pandas recognizes for datetime slicing.\n",
    "    i.e. '2015-07-18'\n",
    "    '''\n",
    "    day_of_sun = month_of_sun[date]\n",
    "    day_of_moon = month_of_moon[date]\n",
    "    day_of_tide = month_of_tide[date]\n",
    "    \n",
    "    # convert indices to matplotlib-friendly datetime format\n",
    "    Si = day_of_sun.index.to_pydatetime()\n",
    "    Mi = day_of_moon.index.to_pydatetime()\n",
    "    Ti = day_of_tide.index.to_pydatetime()\n",
    "    \n",
    "    # zeros for plotting the filled area under each curve\n",
    "    Sz = np.zeros(len(Si))\n",
    "    Mz = np.zeros(len(Mi))\n",
    "    Tz = np.zeros(len(Ti))\n",
    "    \n",
    "    # x-limits from midnight to 11:59pm local time\n",
    "    start_time = pd.to_datetime(date + ' 00:00').tz_localize(time_zone)\n",
    "    start_time = matplotlib.dates.date2num(start_time.to_pydatetime())\n",
    "    stop_time = pd.to_datetime(date + ' 23:59').tz_localize(time_zone)\n",
    "    stop_time = matplotlib.dates.date2num(stop_time.to_pydatetime())\n",
    "    \n",
    "    # sun and moon heights on top\n",
    "    ax1 = plt.subplot(gs[grid_index])\n",
    "    ax1.fill_between(Si, day_of_sun, Sz, color='#FFEB00', alpha=1)\n",
    "    ax1.fill_between(Mi, day_of_moon, Mz, color='#D7A8A8', alpha=0.2)\n",
    "    ax1.set_xlim((start_time, stop_time))\n",
    "    ax1.set_ylim((0, 1))\n",
    "    ax1.set_xticks([])\n",
    "    ax1.set_yticks([])\n",
    "    for axis in ['top','left','right']:\n",
    "        ax1.spines[axis].set_linewidth(1.5)\n",
    "    ax1.spines['bottom'].set_visible(False)\n",
    "    plt.text(0.02, 0.85, day_of_sun.index[0].day, ha='left', fontsize=14, fontname='Foglihten',\n",
    "            transform = ax1.transAxes)\n",
    "    \n",
    "    # tide magnitudes below\n",
    "    ax2 = plt.subplot(gs[grid_index + 1])\n",
    "    ax2.fill_between(Ti, day_of_tide, Tz, color='#52ABB7', alpha=0.8)\n",
    "    ax2.set_xlim((start_time, stop_time))\n",
    "    ax2.set_ylim((tide_min, tide_max))\n",
    "    ax2.set_xticks([])\n",
    "    ax2.set_yticks([])\n",
    "    for axis in ['bottom','left','right']:\n",
    "        ax2.spines[axis].set_linewidth(1.5)\n",
    "    ax2.spines['top'].set_linewidth(0.5)\n"
   ]
  },
  {
   "cell_type": "code",
   "execution_count": 126,
   "metadata": {
    "collapsed": false
   },
   "outputs": [
    {
     "data": {
      "image/png": "[encoded data removed]",
      "text/plain": [
       "<matplotlib.figure.Figure at 0x10b695240>"
      ]
     },
     "metadata": {},
     "output_type": "display_data"
    }
   ],
   "source": [
    "gs = gridspec.GridSpec(2, 1, wspace = 0.0, hspace = 0.0)\n",
    "    \n",
    "_plot_a_date(0, '2015-03-18')\n",
    "\n",
    "plt.show()"
   ]
  },
  {
   "cell_type": "code",
   "execution_count": 96,
   "metadata": {
    "collapsed": false
   },
   "outputs": [
    {
     "name": "stdout",
     "output_type": "stream",
     "text": [
      "0\n",
      "1\n",
      "2\n",
      "3\n",
      "4\n",
      "5\n",
      "0\n",
      "1\n",
      "2\n",
      "3\n",
      "4\n",
      "5\n",
      "0\n",
      "1\n",
      "2\n",
      "3\n",
      "4\n",
      "5\n",
      "0\n",
      "1\n"
     ]
    }
   ],
   "source": [
    "for i in range(20):\n",
    "    print(str(i % 6))"
   ]
  },
  {
   "cell_type": "code",
   "execution_count": 105,
   "metadata": {
    "collapsed": false
   },
   "outputs": [
    {
     "data": {
      "text/plain": [
       "0"
      ]
     },
     "execution_count": 105,
     "metadata": {},
     "output_type": "execute_result"
    }
   ],
   "source": [
    "(pd.to_datetime(year_month + '-01').dayofweek + 1) % 7"
   ]
  },
  {
   "cell_type": "code",
   "execution_count": 100,
   "metadata": {
    "collapsed": false
   },
   "outputs": [
    {
     "data": {
      "text/plain": [
       "6"
      ]
     },
     "execution_count": 100,
     "metadata": {},
     "output_type": "execute_result"
    }
   ],
   "source": [
    "pd.to_datetime(year_month + '-01').dayofweek"
   ]
  },
  {
   "cell_type": "code",
   "execution_count": null,
   "metadata": {
    "collapsed": true
   },
   "outputs": [],
   "source": []
  }
 ],
 "metadata": {
  "kernelspec": {
   "display_name": "Python 3",
   "language": "python",
   "name": "python3"
  },
  "language_info": {
   "codemirror_mode": {
    "name": "ipython",
    "version": 3
   },
   "file_extension": ".py",
   "mimetype": "text/x-python",
   "name": "python",
   "nbconvert_exporter": "python",
   "pygments_lexer": "ipython3",
   "version": "3.4.3"
  }
 },
 "nbformat": 4,
 "nbformat_minor": 0
}
