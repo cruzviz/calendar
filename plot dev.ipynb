{
 "cells": [
  {
   "cell_type": "code",
   "execution_count": 1,
   "metadata": {
    "collapsed": true
   },
   "outputs": [],
   "source": [
    "from astro import Astro\n",
    "from tides import Tides\n",
    "\n",
    "tides = Tides('example_noaa_file.TXT')\n",
    "sun = Astro(str(tides.latitude), str(tides.longitude), tides.timezone, tides.year, 'Sun')\n",
    "moon = Astro(str(tides.latitude), str(tides.longitude), tides.timezone, tides.year, 'Moon')"
   ]
  },
  {
   "cell_type": "code",
   "execution_count": 2,
   "metadata": {
    "collapsed": false
   },
   "outputs": [
    {
     "name": "stdout",
     "output_type": "stream",
     "text": [
      "Populating the interactive namespace from numpy and matplotlib\n"
     ]
    },
    {
     "data": {
      "image/png": "[encoded data removed]",
      "text/plain": [
       "<matplotlib.figure.Figure at 0x109b6a198>"
      ]
     },
     "metadata": {},
     "output_type": "display_data"
    }
   ],
   "source": [
    "import matplotlib.pyplot as plt\n",
    "import matplotlib.gridspec as gridspec\n",
    "import numpy as np\n",
    "%pylab inline\n",
    "\n",
    "import pandas as pd\n",
    "\n",
    "import matplotlib.patches as patches\n",
    "\n",
    "fig = plt.figure()\n",
    "ax = fig.add_subplot(111)\n",
    "x, y = 10*np.random.rand(2, 1000)\n",
    "ax.plot(x, y, ',')  # plot some data in data coordinates\n",
    "ax.set_xlim(0,10)\n",
    "\n",
    "circ = patches.Ellipse(xy = (5., 5.), width = 3., height = 3.8, angle = 0, transform = ax.transData,\n",
    "                      facecolor = 'gold', edgecolor = 'white', alpha = 0.9, zorder = 100)\n",
    "ax.add_patch(circ)\n",
    "\n",
    "plt.show()\n"
   ]
  },
  {
   "cell_type": "code",
   "execution_count": 5,
   "metadata": {
    "collapsed": false
   },
   "outputs": [],
   "source": [
    "def _plot_a_date(date):\n",
    "    '''\n",
    "    Plots the two daily subplots for `date` in gridspec coordinates\n",
    "    gs[gridx, gridy] for the sun/moon and gs[gridx, gridy + 1] for tide.\n",
    "    `date` must be in a form pandas recognizes for datetime slicing.\n",
    "    i.e. '2015-07-18'\n",
    "    '''\n",
    "    gs = gridspec.GridSpec(2, 1, wspace = 0.0, hspace = 0.0)\n",
    "    \n",
    "    day_of_tide = tides.all_tides[date]\n",
    "    day_of_moon = moon.altitudes[date]\n",
    "    day_of_sun = sun.altitudes[date]\n",
    "    time_zone = tides.timezone\n",
    "    \n",
    "    # convert indices to matplotlib-friendly datetime format\n",
    "    Si = day_of_sun.index.to_pydatetime()\n",
    "    Mi = day_of_moon.index.to_pydatetime()\n",
    "    Ti = day_of_tide.index.to_pydatetime()\n",
    "    \n",
    "    # zeros for plotting the filled area under each curve\n",
    "    Sz = np.zeros(len(Si))\n",
    "    Mz = np.zeros(len(Mi))\n",
    "    Tz = np.zeros(len(Ti))\n",
    "    \n",
    "    # x-limits from midnight to 11:59pm local time, x-ticks at 6am/noon/6pm\n",
    "    start_time = pd.to_datetime(date + ' 00:00').tz_localize(time_zone)\n",
    "    start_time = matplotlib.dates.date2num(start_time.to_pydatetime())\n",
    "    stop_time = pd.to_datetime(date + ' 23:59').tz_localize(time_zone)\n",
    "    stop_time = matplotlib.dates.date2num(stop_time.to_pydatetime())\n",
    "    \n",
    "    # sun and moon heights on top\n",
    "    ax1 = plt.subplot(gs[0])\n",
    "    ax1.fill_between(Si, np.sin(day_of_sun), Sz, color = '#FFEB00', alpha = 0.3)\n",
    "    ax1.fill_between(Si, day_of_sun / (np.pi / 2), Sz, color = '#FFEB00', alpha = 1)\n",
    "    ax1.fill_between(Mi, np.sin(day_of_moon), Mz, color = '#D7A8A8', alpha = 0.1)\n",
    "    ax1.fill_between(Mi, day_of_moon / (np.pi / 2), Mz, color = '#D7A8A8', alpha = 0.1)\n",
    "    ax1.set_xlim((start_time, stop_time))\n",
    "    ax1.set_ylim((0, 1))\n",
    "    ax1.set_xticks([])\n",
    "    ax1.set_yticks([])\n",
    "    for axis in ['top','left','right']:\n",
    "        ax1.spines[axis].set_linewidth(1.5)\n",
    "    ax1.spines['bottom'].set_visible(False)\n",
    "    plt.text(0.02, 0.85, day_of_sun.index[0].day, ha='left', fontsize=14, fontname='Foglihten',\n",
    "            transform = ax1.transAxes)\n",
    "    moon_icon1 = '0ABCDEFGHIJKLM@NOPQRSTUVWXYZ'  # the dark part\n",
    "    plt.text(0.93, 0.69, moon_icon1[moon.phase_day_num[date]], ha = 'right', fontsize = 24, color = '0.7',\n",
    "             fontname = 'moon phases', transform = ax1.transAxes)\n",
    "    plt.text(0.93, 0.69, '*', ha = 'right', fontsize = 24, color = '#D7A8A8',\n",
    "             alpha = 0.3, fontname = 'moon phases', transform = ax1.transAxes)\n",
    "\n",
    "    # tide magnitudes below\n",
    "    ax2 = plt.subplot(gs[1])\n",
    "    ax2.fill_between(Ti, day_of_tide, Tz, color='#52ABB7', alpha=0.8)\n",
    "    ax2.set_xlim((start_time, stop_time))\n",
    "    ax2.set_ylim((tides.annual_min, tides.annual_max))\n",
    "    ax2.set_xticks([])\n",
    "    ax2.set_yticks([])\n",
    "    for axis in ['bottom','left','right']:\n",
    "        ax2.spines[axis].set_linewidth(1.5)\n",
    "    ax2.spines['top'].set_linewidth(0.5)\n",
    "    \n",
    "    return ax1\n"
   ]
  },
  {
   "cell_type": "code",
   "execution_count": 6,
   "metadata": {
    "collapsed": false
   },
   "outputs": [
    {
     "data": {
      "image/png": "[encoded data removed]",
      "text/plain": [
       "<matplotlib.figure.Figure at 0x10b16c908>"
      ]
     },
     "metadata": {},
     "output_type": "display_data"
    }
   ],
   "source": [
    "ax = _plot_a_date('2015-03-25')\n",
    "\n",
    "plt.savefig('testtt.pdf')\n",
    "plt.show()"
   ]
  },
  {
   "cell_type": "code",
   "execution_count": 7,
   "metadata": {
    "collapsed": false
   },
   "outputs": [
    {
     "data": {
      "image/png": "[encoded data removed]",
      "text/plain": [
       "<matplotlib.figure.Figure at 0x10c587f98>"
      ]
     },
     "metadata": {},
     "output_type": "display_data"
    }
   ],
   "source": [
    "ax = _plot_a_date('2015-06-21')\n",
    "\n",
    "xloc = pd.to_datetime('2015-06-21 18:30').to_pydatetime() #need to fix this, as with time index\n",
    "\n",
    "ax.scatter(xloc, 0.2, s=800, marker = (16, 1, 0), facecolor = 'gold', linewidth = 1, edgecolor = 'white',\n",
    "        zorder = 100)\n",
    "#ax.plot(xloc, 0.2, marker = (8, 1, 0), color = 'white', alpha = 0.8, zorder = 90, markersize=30)\n",
    "\n",
    "plt.show()\n"
   ]
  },
  {
   "cell_type": "code",
   "execution_count": 26,
   "metadata": {
    "collapsed": false
   },
   "outputs": [
    {
     "name": "stdout",
     "output_type": "stream",
     "text": [
      "yes\n"
     ]
    }
   ],
   "source": [
    "i = '2015-09'\n",
    "monthnum = pd.to_datetime(i).month\n",
    "if monthnum in sun.events.index.month:\n",
    "    print('yes')\n",
    "else: print('no')"
   ]
  },
  {
   "cell_type": "code",
   "execution_count": 44,
   "metadata": {
    "collapsed": false
   },
   "outputs": [],
   "source": [
    "solev = sun.events[monthnum == sun.events.index.month]"
   ]
  },
  {
   "cell_type": "code",
   "execution_count": 45,
   "metadata": {
    "collapsed": false
   },
   "outputs": [
    {
     "data": {
      "text/plain": [
       "2015-09-23 01:20:26.656868-07:00    True\n",
       "dtype: bool"
      ]
     },
     "execution_count": 45,
     "metadata": {},
     "output_type": "execute_result"
    }
   ],
   "source": [
    "solev == 'fall equinox'"
   ]
  },
  {
   "cell_type": "code",
   "execution_count": 47,
   "metadata": {
    "collapsed": false
   },
   "outputs": [
    {
     "data": {
      "text/plain": [
       "22"
      ]
     },
     "execution_count": 47,
     "metadata": {},
     "output_type": "execute_result"
    }
   ],
   "source": [
    "solev.index[0].day - 1"
   ]
  },
  {
   "cell_type": "code",
   "execution_count": 38,
   "metadata": {
    "collapsed": false
   },
   "outputs": [
    {
     "data": {
      "text/plain": [
       "'#D56F28'"
      ]
     },
     "execution_count": 38,
     "metadata": {},
     "output_type": "execute_result"
    }
   ],
   "source": [
    "sun_icon_col = {\n",
    "        'spring equinox':   '#C8E097',\n",
    "        'summer solstice':  'gold',\n",
    "        'fall equinox':     '#D56F28',\n",
    "        'winter solstice':  '#B4EAF4'\n",
    "    }\n",
    "sun_icon_col[solev[0]]"
   ]
  },
  {
   "cell_type": "code",
   "execution_count": null,
   "metadata": {
    "collapsed": true
   },
   "outputs": [],
   "source": []
  }
 ],
 "metadata": {
  "kernelspec": {
   "display_name": "Python 3",
   "language": "python",
   "name": "python3"
  },
  "language_info": {
   "codemirror_mode": {
    "name": "ipython",
    "version": 3
   },
   "file_extension": ".py",
   "mimetype": "text/x-python",
   "name": "python",
   "nbconvert_exporter": "python",
   "pygments_lexer": "ipython3",
   "version": "3.4.3"
  }
 },
 "nbformat": 4,
 "nbformat_minor": 0
}
