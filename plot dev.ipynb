{
 "cells": [
  {
   "cell_type": "code",
   "execution_count": 16,
   "metadata": {
    "collapsed": true
   },
   "outputs": [],
   "source": [
    "from astro import Astro\n",
    "from tides import Tides\n",
    "\n",
    "tides = Tides('example_noaa_file.TXT')\n",
    "sun = Astro(str(tides.latitude), str(tides.longitude), tides.timezone, tides.year, 'Sun')\n",
    "moon = Astro(str(tides.latitude), str(tides.longitude), tides.timezone, tides.year, 'Moon')"
   ]
  },
  {
   "cell_type": "code",
   "execution_count": 17,
   "metadata": {
    "collapsed": false
   },
   "outputs": [
    {
     "name": "stdout",
     "output_type": "stream",
     "text": [
      "Populating the interactive namespace from numpy and matplotlib\n"
     ]
    }
   ],
   "source": [
    "import matplotlib.pyplot as plt\n",
    "import numpy as np\n",
    "%pylab inline"
   ]
  },
  {
   "cell_type": "code",
   "execution_count": 24,
   "metadata": {
    "collapsed": true
   },
   "outputs": [],
   "source": [
    "monthnum = '07'  # change this to test other months\n",
    "firstday, lastday = '15', '21'\n",
    "\n",
    "month_of_tide = tides.all_tides[tides.year + '-' + monthnum]\n",
    "month_of_sun = sun.heights[tides.year + '-' + monthnum]\n",
    "month_of_moon = moon.heights[tides.year + '-' + monthnum]\n",
    "\n",
    "# the zero lines for each variable to be plotted\n",
    "Tz = np.zeros(len(month_of_tide.index))\n",
    "Sz = np.zeros(len(month_of_sun.index))\n",
    "Mz = np.zeros(len(month_of_moon.index))\n",
    "\n",
    "tide_min = tides.annual_min\n",
    "tide_max = tides.annual_max\n",
    "place_name = tides.station_name + ', ' + tides.state\n",
    "first_day = monthnum + '-' + firstday\n",
    "last_day = monthnum + '-' + lastday\n",
    "month_title = month_of_tide.index[0].to_pydatetime().strftime('%B')"
   ]
  },
  {
   "cell_type": "code",
   "execution_count": 33,
   "metadata": {
    "collapsed": false
   },
   "outputs": [
    {
     "ename": "AttributeError",
     "evalue": "'Figure' object has no attribute 'setp'",
     "output_type": "error",
     "traceback": [
      "\u001b[0;31m---------------------------------------------------------------------------\u001b[0m",
      "\u001b[0;31mAttributeError\u001b[0m                            Traceback (most recent call last)",
      "\u001b[0;32m<ipython-input-33-1a9bd6c21d7f>\u001b[0m in \u001b[0;36m<module>\u001b[0;34m()\u001b[0m\n\u001b[1;32m      7\u001b[0m \u001b[0;31m#ax1.title('{} {}-{} in {}'.format(month_title,firstday,lastday,place_name))\u001b[0m\u001b[0;34m\u001b[0m\u001b[0;34m\u001b[0m\u001b[0m\n\u001b[1;32m      8\u001b[0m \u001b[0max1\u001b[0m\u001b[0;34m.\u001b[0m\u001b[0maxis\u001b[0m\u001b[0;34m(\u001b[0m\u001b[0;34m[\u001b[0m\u001b[0mfirst_day\u001b[0m\u001b[0;34m,\u001b[0m \u001b[0mlast_day\u001b[0m\u001b[0;34m,\u001b[0m \u001b[0;36m0\u001b[0m\u001b[0;34m,\u001b[0m \u001b[0;36m1\u001b[0m\u001b[0;34m]\u001b[0m\u001b[0;34m)\u001b[0m\u001b[0;34m\u001b[0m\u001b[0m\n\u001b[0;32m----> 9\u001b[0;31m \u001b[0mfig\u001b[0m\u001b[0;34m.\u001b[0m\u001b[0msetp\u001b[0m\u001b[0;34m(\u001b[0m\u001b[0max1\u001b[0m\u001b[0;34m.\u001b[0m\u001b[0mget_xticklabels\u001b[0m\u001b[0;34m(\u001b[0m\u001b[0;34m)\u001b[0m\u001b[0;34m,\u001b[0m \u001b[0mvisible\u001b[0m\u001b[0;34m=\u001b[0m\u001b[0;32mFalse\u001b[0m\u001b[0;34m)\u001b[0m\u001b[0;34m\u001b[0m\u001b[0m\n\u001b[0m\u001b[1;32m     10\u001b[0m \u001b[0mfig\u001b[0m\u001b[0;34m.\u001b[0m\u001b[0msetp\u001b[0m\u001b[0;34m(\u001b[0m\u001b[0max1\u001b[0m\u001b[0;34m.\u001b[0m\u001b[0mget_yticklabels\u001b[0m\u001b[0;34m(\u001b[0m\u001b[0;34m)\u001b[0m\u001b[0;34m,\u001b[0m \u001b[0mvisible\u001b[0m\u001b[0;34m=\u001b[0m\u001b[0;32mFalse\u001b[0m\u001b[0;34m)\u001b[0m\u001b[0;34m\u001b[0m\u001b[0m\n\u001b[1;32m     11\u001b[0m \u001b[0;34m\u001b[0m\u001b[0m\n",
      "\u001b[0;31mAttributeError\u001b[0m: 'Figure' object has no attribute 'setp'"
     ]
    },
    {
     "data": {
      "image/png": "[encoded data removed]",
      "text/plain": [
       "<matplotlib.figure.Figure at 0x110828438>"
      ]
     },
     "metadata": {},
     "output_type": "display_data"
    }
   ],
   "source": [
    "# sun and moon heights on top\n",
    "fig, (ax1, ax2) = plt.subplots(2, 1, sharex=True)\n",
    "ax1.fill_between(month_of_sun.index, month_of_sun, Sz,\n",
    "                 color='#FFEB00', alpha=1)\n",
    "ax1.fill_between(month_of_moon.index, month_of_moon, Mz,\n",
    "                 color='#D7A8A8', alpha=0.2)\n",
    "#ax1.title('{} {}-{} in {}'.format(month_title,firstday,lastday,place_name))\n",
    "ax1.axis([first_day, last_day, 0, 1])\n",
    "ax1.xaxis.set_ticks(month_of_sun.index[])\n",
    "fig.setp(ax1.get_xticklabels(), visible=False)\n",
    "fig.setp(ax1.get_yticklabels(), visible=False)\n",
    "\n",
    "# tide magnitudes below\n",
    "ax2.fill_between(month_of_tide.index, month_of_tide, Tz,\n",
    "                 color='#52ABB7', alpha=0.8)\n",
    "ax2.axis([first_day, last_day, tide_min, tide_max])\n",
    "fig.setp(ax2.get_xticklabels(), visible=False)\n",
    "fig.setp(ax2.get_yticklabels(), visible=False)\n",
    "\n",
    "fig.show()"
   ]
  },
  {
   "cell_type": "code",
   "execution_count": null,
   "metadata": {
    "collapsed": true
   },
   "outputs": [],
   "source": []
  }
 ],
 "metadata": {
  "kernelspec": {
   "display_name": "Python 3",
   "language": "python",
   "name": "python3"
  },
  "language_info": {
   "codemirror_mode": {
    "name": "ipython",
    "version": 3
   },
   "file_extension": ".py",
   "mimetype": "text/x-python",
   "name": "python",
   "nbconvert_exporter": "python",
   "pygments_lexer": "ipython3",
   "version": "3.4.3"
  }
 },
 "nbformat": 4,
 "nbformat_minor": 0
}
